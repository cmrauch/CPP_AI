{
  "nbformat": 4,
  "nbformat_minor": 0,
  "metadata": {
    "colab": {
      "name": "NumMethods1.ipynb",
      "version": "0.3.2",
      "provenance": [],
      "include_colab_link": true
    },
    "kernelspec": {
      "name": "python3",
      "display_name": "Python 3"
    }
  },
  "cells": [
    {
      "cell_type": "markdown",
      "metadata": {
        "id": "view-in-github",
        "colab_type": "text"
      },
      "source": [
        "[![Open In Colab](https://colab.research.google.com/assets/colab-badge.svg)](https://colab.research.google.com/github/cmrauch/CPP_AI/blob/master/NumMethods1.ipynb)"
      ]
    },
    {
      "metadata": {
        "id": "oCe_5tF6Q7sN",
        "colab_type": "code",
        "colab": {
          "base_uri": "https://localhost:8080/",
          "height": 34
        },
        "outputId": "fa689ef9-1f29-4cfc-ebc1-bfc300788ad0"
      },
      "cell_type": "code",
      "source": [
        "()"
      ],
      "execution_count": 11,
      "outputs": [
        {
          "output_type": "execute_result",
          "data": {
            "text/plain": [
              "()"
            ]
          },
          "metadata": {
            "tags": []
          },
          "execution_count": 11
        }
      ]
    },
    {
      "metadata": {
        "id": "ZRvsQKL_LFmw",
        "colab_type": "code",
        "colab": {
          "base_uri": "https://localhost:8080/",
          "height": 965
        },
        "outputId": "eb65b2b2-02ed-4dc0-fa05-1e4989dbf3d4"
      },
      "cell_type": "code",
      "source": [
        "import numpy as np\n",
        "\n",
        "def Partial_Pivoting(matrix):\n",
        "  \n",
        "  numCols = matrix.shape[0]\n",
        "  numRows = matrix.shape[1]\n",
        "  n = numCols\n",
        "  #index vector && scaled array\n",
        "  l = [0 for x in range(numCols)]\n",
        "  s = [0.0 for x in range(numRows)]\n",
        "  \n",
        "  #find pivoting point\n",
        "  for i in range(0,numCols):\n",
        "    l[i] = i\n",
        "    smax = 0.0 \n",
        "    for j in range(numCols):\n",
        "      if abs(matrix[i][j]) > smax:\n",
        "        smax = abs(matrix[i][j])\n",
        "    s[i] = smax\n",
        "  \n",
        "  #fill the list index array\n",
        "  for i in range(numCols):\n",
        "    rmax = 0.0\n",
        "    for j in range(i,n):\n",
        "      r = abs(matrix[l[j]][i] / s[l[i]])\n",
        "      if r > rmax:\n",
        "        rmax = r\n",
        "        index = j\n",
        "    #swap values\n",
        "    temp = l[i]\n",
        "    l[i] = l[index]\n",
        "    l[index] = temp\n",
        "    \n",
        "    # using l, simplify augmented matrix\n",
        "    for j in range(i+1,numCols):\n",
        "      xmult = matrix[l[j]][i] / matrix[l[i]][i]\n",
        "      for k in range(i,n+1):\n",
        "        matrix[l[j]][k] -= xmult * matrix[l[i]][k]\n",
        "  \n",
        "  #use back substitution to solve the system of equations\n",
        "  ans_vector = np.zeros(numCols)\n",
        "  ans_column = numCols \n",
        "  len_l = len(l) - 1\n",
        "  for i in reversed(l):\n",
        "    rsum = 0\n",
        "    for j in range(numCols): # j is x1, x2... respectively\n",
        "      rsum += matrix[i][j] * ans_vector[j]\n",
        "    ans_vector[len_l] = (matrix[i][ans_column] - rsum) / matrix[i][len_l]\n",
        "    len_l -= 1\n",
        "           \n",
        "  return ans_vector\n",
        "  \n",
        "  \n",
        "\n",
        "n = int(input(\"How many linear equations would you like to solve? (<10) \"))\n",
        "print('Enter the coefficients of the equations followed by spaces \\n press enter at the end of each row')\n",
        "\n",
        "#initialize matrix\n",
        "matrix = np.zeros((n,n+1))\n",
        "\n",
        "#fill matrix seperated by spaces\n",
        "for i in range(n):\n",
        "  matrix[i]=input().split(\" \")\n",
        "  \n",
        "b_vector = Partial_Pivoting(matrix)\n",
        "\n",
        "#print results  \n",
        "a = 97\n",
        "for i in range(len(b_vector)):\n",
        "  print(chr(a), \" = \", b_vector[i])\n",
        "  a += 1"
      ],
      "execution_count": 12,
      "outputs": [
        {
          "output_type": "error",
          "ename": "KeyboardInterrupt",
          "evalue": "ignored",
          "traceback": [
            "\u001b[0;31m---------------------------------------------------------------------------\u001b[0m",
            "\u001b[0;31mKeyboardInterrupt\u001b[0m                         Traceback (most recent call last)",
            "\u001b[0;32m/usr/local/lib/python3.6/dist-packages/ipykernel/kernelbase.py\u001b[0m in \u001b[0;36m_input_request\u001b[0;34m(self, prompt, ident, parent, password)\u001b[0m\n\u001b[1;32m    729\u001b[0m             \u001b[0;32mtry\u001b[0m\u001b[0;34m:\u001b[0m\u001b[0;34m\u001b[0m\u001b[0m\n\u001b[0;32m--> 730\u001b[0;31m                 \u001b[0mident\u001b[0m\u001b[0;34m,\u001b[0m \u001b[0mreply\u001b[0m \u001b[0;34m=\u001b[0m \u001b[0mself\u001b[0m\u001b[0;34m.\u001b[0m\u001b[0msession\u001b[0m\u001b[0;34m.\u001b[0m\u001b[0mrecv\u001b[0m\u001b[0;34m(\u001b[0m\u001b[0mself\u001b[0m\u001b[0;34m.\u001b[0m\u001b[0mstdin_socket\u001b[0m\u001b[0;34m,\u001b[0m \u001b[0;36m0\u001b[0m\u001b[0;34m)\u001b[0m\u001b[0;34m\u001b[0m\u001b[0m\n\u001b[0m\u001b[1;32m    731\u001b[0m             \u001b[0;32mexcept\u001b[0m \u001b[0mException\u001b[0m\u001b[0;34m:\u001b[0m\u001b[0;34m\u001b[0m\u001b[0m\n",
            "\u001b[0;32m/usr/local/lib/python3.6/dist-packages/jupyter_client/session.py\u001b[0m in \u001b[0;36mrecv\u001b[0;34m(self, socket, mode, content, copy)\u001b[0m\n\u001b[1;32m    802\u001b[0m         \u001b[0;32mtry\u001b[0m\u001b[0;34m:\u001b[0m\u001b[0;34m\u001b[0m\u001b[0m\n\u001b[0;32m--> 803\u001b[0;31m             \u001b[0mmsg_list\u001b[0m \u001b[0;34m=\u001b[0m \u001b[0msocket\u001b[0m\u001b[0;34m.\u001b[0m\u001b[0mrecv_multipart\u001b[0m\u001b[0;34m(\u001b[0m\u001b[0mmode\u001b[0m\u001b[0;34m,\u001b[0m \u001b[0mcopy\u001b[0m\u001b[0;34m=\u001b[0m\u001b[0mcopy\u001b[0m\u001b[0;34m)\u001b[0m\u001b[0;34m\u001b[0m\u001b[0m\n\u001b[0m\u001b[1;32m    804\u001b[0m         \u001b[0;32mexcept\u001b[0m \u001b[0mzmq\u001b[0m\u001b[0;34m.\u001b[0m\u001b[0mZMQError\u001b[0m \u001b[0;32mas\u001b[0m \u001b[0me\u001b[0m\u001b[0;34m:\u001b[0m\u001b[0;34m\u001b[0m\u001b[0m\n",
            "\u001b[0;32m/usr/local/lib/python3.6/dist-packages/zmq/sugar/socket.py\u001b[0m in \u001b[0;36mrecv_multipart\u001b[0;34m(self, flags, copy, track)\u001b[0m\n\u001b[1;32m    394\u001b[0m         \"\"\"\n\u001b[0;32m--> 395\u001b[0;31m         \u001b[0mparts\u001b[0m \u001b[0;34m=\u001b[0m \u001b[0;34m[\u001b[0m\u001b[0mself\u001b[0m\u001b[0;34m.\u001b[0m\u001b[0mrecv\u001b[0m\u001b[0;34m(\u001b[0m\u001b[0mflags\u001b[0m\u001b[0;34m,\u001b[0m \u001b[0mcopy\u001b[0m\u001b[0;34m=\u001b[0m\u001b[0mcopy\u001b[0m\u001b[0;34m,\u001b[0m \u001b[0mtrack\u001b[0m\u001b[0;34m=\u001b[0m\u001b[0mtrack\u001b[0m\u001b[0;34m)\u001b[0m\u001b[0;34m]\u001b[0m\u001b[0;34m\u001b[0m\u001b[0m\n\u001b[0m\u001b[1;32m    396\u001b[0m         \u001b[0;31m# have first part already, only loop while more to receive\u001b[0m\u001b[0;34m\u001b[0m\u001b[0;34m\u001b[0m\u001b[0m\n",
            "\u001b[0;32mzmq/backend/cython/socket.pyx\u001b[0m in \u001b[0;36mzmq.backend.cython.socket.Socket.recv\u001b[0;34m()\u001b[0m\n",
            "\u001b[0;32mzmq/backend/cython/socket.pyx\u001b[0m in \u001b[0;36mzmq.backend.cython.socket.Socket.recv\u001b[0;34m()\u001b[0m\n",
            "\u001b[0;32mzmq/backend/cython/socket.pyx\u001b[0m in \u001b[0;36mzmq.backend.cython.socket._recv_copy\u001b[0;34m()\u001b[0m\n",
            "\u001b[0;32m/usr/local/lib/python3.6/dist-packages/zmq/backend/cython/checkrc.pxd\u001b[0m in \u001b[0;36mzmq.backend.cython.checkrc._check_rc\u001b[0;34m()\u001b[0m\n",
            "\u001b[0;31mKeyboardInterrupt\u001b[0m: ",
            "\nDuring handling of the above exception, another exception occurred:\n",
            "\u001b[0;31mKeyboardInterrupt\u001b[0m                         Traceback (most recent call last)",
            "\u001b[0;32m<ipython-input-12-be6c02d7e547>\u001b[0m in \u001b[0;36m<module>\u001b[0;34m()\u001b[0m\n\u001b[1;32m     61\u001b[0m \u001b[0;34m\u001b[0m\u001b[0m\n\u001b[1;32m     62\u001b[0m \u001b[0;34m\u001b[0m\u001b[0m\n\u001b[0;32m---> 63\u001b[0;31m \u001b[0mn\u001b[0m \u001b[0;34m=\u001b[0m \u001b[0mint\u001b[0m\u001b[0;34m(\u001b[0m\u001b[0minput\u001b[0m\u001b[0;34m(\u001b[0m\u001b[0;34m\"How many linear equations would you like to solve? (<10) \"\u001b[0m\u001b[0;34m)\u001b[0m\u001b[0;34m)\u001b[0m\u001b[0;34m\u001b[0m\u001b[0m\n\u001b[0m\u001b[1;32m     64\u001b[0m \u001b[0mprint\u001b[0m\u001b[0;34m(\u001b[0m\u001b[0;34m'Enter the coefficients of the equations followed by spaces \\n press enter at the end of each row'\u001b[0m\u001b[0;34m)\u001b[0m\u001b[0;34m\u001b[0m\u001b[0m\n\u001b[1;32m     65\u001b[0m \u001b[0;34m\u001b[0m\u001b[0m\n",
            "\u001b[0;32m/usr/local/lib/python3.6/dist-packages/ipykernel/kernelbase.py\u001b[0m in \u001b[0;36mraw_input\u001b[0;34m(self, prompt)\u001b[0m\n\u001b[1;32m    703\u001b[0m             \u001b[0mself\u001b[0m\u001b[0;34m.\u001b[0m\u001b[0m_parent_ident\u001b[0m\u001b[0;34m,\u001b[0m\u001b[0;34m\u001b[0m\u001b[0m\n\u001b[1;32m    704\u001b[0m             \u001b[0mself\u001b[0m\u001b[0;34m.\u001b[0m\u001b[0m_parent_header\u001b[0m\u001b[0;34m,\u001b[0m\u001b[0;34m\u001b[0m\u001b[0m\n\u001b[0;32m--> 705\u001b[0;31m             \u001b[0mpassword\u001b[0m\u001b[0;34m=\u001b[0m\u001b[0;32mFalse\u001b[0m\u001b[0;34m,\u001b[0m\u001b[0;34m\u001b[0m\u001b[0m\n\u001b[0m\u001b[1;32m    706\u001b[0m         )\n\u001b[1;32m    707\u001b[0m \u001b[0;34m\u001b[0m\u001b[0m\n",
            "\u001b[0;32m/usr/local/lib/python3.6/dist-packages/ipykernel/kernelbase.py\u001b[0m in \u001b[0;36m_input_request\u001b[0;34m(self, prompt, ident, parent, password)\u001b[0m\n\u001b[1;32m    733\u001b[0m             \u001b[0;32mexcept\u001b[0m \u001b[0mKeyboardInterrupt\u001b[0m\u001b[0;34m:\u001b[0m\u001b[0;34m\u001b[0m\u001b[0m\n\u001b[1;32m    734\u001b[0m                 \u001b[0;31m# re-raise KeyboardInterrupt, to truncate traceback\u001b[0m\u001b[0;34m\u001b[0m\u001b[0;34m\u001b[0m\u001b[0m\n\u001b[0;32m--> 735\u001b[0;31m                 \u001b[0;32mraise\u001b[0m \u001b[0mKeyboardInterrupt\u001b[0m\u001b[0;34m\u001b[0m\u001b[0m\n\u001b[0m\u001b[1;32m    736\u001b[0m             \u001b[0;32melse\u001b[0m\u001b[0;34m:\u001b[0m\u001b[0;34m\u001b[0m\u001b[0m\n\u001b[1;32m    737\u001b[0m                 \u001b[0;32mbreak\u001b[0m\u001b[0;34m\u001b[0m\u001b[0m\n",
            "\u001b[0;31mKeyboardInterrupt\u001b[0m: "
          ]
        }
      ]
    },
    {
      "metadata": {
        "id": "791026RAJYLh",
        "colab_type": "code",
        "colab": {
          "base_uri": "https://localhost:8080/",
          "height": 221
        },
        "outputId": "a226a109-4702-4055-f0b9-53823412589d"
      },
      "cell_type": "code",
      "source": [
        "# Jacobi Iterative Method\n",
        "import numpy as np\n",
        "\n",
        "n = int(input(\"How many linear equations would you like to solve? \"))\n",
        "print('Enter the coefficients of the equations followed by spaces \\nPress enter at the end of each row')\n",
        "\n",
        "#initialize matrix\n",
        "m = np.zeros((n,n+1))\n",
        "\n",
        "#fill matrix seperated by spaces\n",
        "for i in range(n):\n",
        "  m[i]=input().split(\" \")\n",
        "  \n",
        "error = int(input(\"Desired number of iterations: \"))\n",
        "  \n",
        "solution = [row[-1] for row in m]\n",
        "prev_x = [0] * n\n",
        "x = [0] * n\n",
        "\n",
        "#iterate until convergence\n",
        "#algorithm for Jacobi\n",
        "while error > 0:\n",
        "  for i in range(n):\n",
        "    temp = 0\n",
        "    for j in range(n):\n",
        "      if i != j:   \n",
        "        temp += m[i][j] * prev_x[j]    \n",
        "    x[i] = (solution[i] - temp) / m[i][i] \n",
        "  # update previous solution \n",
        "  prev_x = x.copy()\n",
        "  error -= 1    \n",
        "  \n",
        "#print results  \n",
        "a = 97\n",
        "for i in range(n):\n",
        "  print(chr(a), \" = \", x[i])\n",
        "  a += 1"
      ],
      "execution_count": 11,
      "outputs": [
        {
          "output_type": "stream",
          "text": [
            "How many linear equations would you like to solve? 3\n",
            "Enter the coefficients of the equations followed by spaces \n",
            "Press enter at the end of each row\n",
            "2 3 -1 4\n",
            "3 1 2 5\n",
            "1 0 4 1\n",
            "Desired error: 48\n",
            "[2.0, 5.0, 0.25]\n",
            "[-5.375, -1.5, -0.25]\n",
            "a  =  -5.375\n",
            "b  =  -1.5\n",
            "c  =  -0.25\n"
          ],
          "name": "stdout"
        }
      ]
    },
    {
      "metadata": {
        "id": "FquC8KJHnGlX",
        "colab_type": "code",
        "colab": {}
      },
      "cell_type": "code",
      "source": [
        "#Gauss-Seidal Method\n",
        "\n",
        "n = int(input(\"How many linear equations would you like to solve? \"))\n",
        "print('Enter the coefficients of the equations followed by spaces \\nPress enter at the end of each row')\n",
        "\n",
        "#initialize matrix\n",
        "m = np.zeros((n,n+1))\n",
        "\n",
        "#fill matrix seperated by spaces\n",
        "for i in range(n):\n",
        "  m[i]=input().split(\" \")\n",
        "  \n",
        "error = int(input(\"Desired number of iterations: \"))\n",
        "\n",
        "#create array that holds solutions to system of equations\n",
        "solution = [row[-1] for row in m]\n",
        "x = [0] * n\n",
        "\n",
        "#iterate until convergence\n",
        "#algorithm for Seidal\n",
        "while error > 0:\n",
        "  for i in range(n):\n",
        "    temp = 0\n",
        "    for j in range(n):\n",
        "      if i != j:   \n",
        "        temp += m[i][j] * x[j]    \n",
        "    x[i] = (solution[i] - temp) / m[i][i] \n",
        "  error -= 1    \n",
        "  \n",
        "#print results  \n",
        "a = 97\n",
        "for i in range(n):\n",
        "  print(chr(a), \" = \", x[i])\n",
        "  a += 1"
      ],
      "execution_count": 0,
      "outputs": []
    }
  ]
}